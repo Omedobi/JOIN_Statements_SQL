{
 "cells": [
  {
   "cell_type": "code",
   "execution_count": 47,
   "id": "0aafd58e",
   "metadata": {},
   "outputs": [],
   "source": [
    "import sqlalchemy\n",
    "import sql\n",
    "import pandas as pd\n",
    "import matplotlib.pyplot as plt\n",
    "import seaborn as sns\n",
    "import sqlite3"
   ]
  },
  {
   "cell_type": "code",
   "execution_count": 33,
   "id": "00141cde",
   "metadata": {},
   "outputs": [],
   "source": [
    "con = sqlite3.connect(\"hr.db\")\n",
    "cur = con.cursor()"
   ]
  },
  {
   "cell_type": "code",
   "execution_count": null,
   "id": "fde1c99e",
   "metadata": {},
   "outputs": [],
   "source": []
  },
  {
   "cell_type": "code",
   "execution_count": 34,
   "id": "4c4a858e",
   "metadata": {},
   "outputs": [],
   "source": [
    "%reload_ext sql"
   ]
  },
  {
   "cell_type": "code",
   "execution_count": null,
   "id": "6734f9f9",
   "metadata": {},
   "outputs": [],
   "source": []
  },
  {
   "cell_type": "code",
   "execution_count": 35,
   "id": "68d1aaac",
   "metadata": {},
   "outputs": [],
   "source": [
    "%sql sqlite:///hr.db"
   ]
  },
  {
   "cell_type": "code",
   "execution_count": null,
   "id": "0fbefcdd",
   "metadata": {},
   "outputs": [],
   "source": []
  },
  {
   "cell_type": "code",
   "execution_count": 16,
   "id": "198d7346",
   "metadata": {},
   "outputs": [
    {
     "data": {
      "text/html": [
       "<div>\n",
       "<style scoped>\n",
       "    .dataframe tbody tr th:only-of-type {\n",
       "        vertical-align: middle;\n",
       "    }\n",
       "\n",
       "    .dataframe tbody tr th {\n",
       "        vertical-align: top;\n",
       "    }\n",
       "\n",
       "    .dataframe thead th {\n",
       "        text-align: right;\n",
       "    }\n",
       "</style>\n",
       "<table border=\"1\" class=\"dataframe\">\n",
       "  <thead>\n",
       "    <tr style=\"text-align: right;\">\n",
       "      <th></th>\n",
       "      <th>2</th>\n",
       "      <th>Architect Group</th>\n",
       "      <th>30001</th>\n",
       "      <th>L0001</th>\n",
       "    </tr>\n",
       "  </thead>\n",
       "  <tbody>\n",
       "    <tr>\n",
       "      <th>0</th>\n",
       "      <td>5</td>\n",
       "      <td>Software Group</td>\n",
       "      <td>30002</td>\n",
       "      <td>L0002</td>\n",
       "    </tr>\n",
       "    <tr>\n",
       "      <th>1</th>\n",
       "      <td>7</td>\n",
       "      <td>Design Team</td>\n",
       "      <td>30003</td>\n",
       "      <td>L0003</td>\n",
       "    </tr>\n",
       "  </tbody>\n",
       "</table>\n",
       "</div>"
      ],
      "text/plain": [
       "   2 Architect Group  30001  L0001\n",
       "0  5  Software Group  30002  L0002\n",
       "1  7     Design Team  30003  L0003"
      ]
     },
     "execution_count": 16,
     "metadata": {},
     "output_type": "execute_result"
    }
   ],
   "source": [
    "departments_data = pd.read_csv (\"departments.csv\")\n",
    "departments_data.dropna()\n",
    "departments_data.head() "
   ]
  },
  {
   "cell_type": "code",
   "execution_count": null,
   "id": "0049b6cd",
   "metadata": {},
   "outputs": [],
   "source": []
  },
  {
   "cell_type": "code",
   "execution_count": 18,
   "id": "fef5bdfe",
   "metadata": {},
   "outputs": [
    {
     "data": {
      "text/html": [
       "<div>\n",
       "<style scoped>\n",
       "    .dataframe tbody tr th:only-of-type {\n",
       "        vertical-align: middle;\n",
       "    }\n",
       "\n",
       "    .dataframe tbody tr th {\n",
       "        vertical-align: top;\n",
       "    }\n",
       "\n",
       "    .dataframe thead th {\n",
       "        text-align: right;\n",
       "    }\n",
       "</style>\n",
       "<table border=\"1\" class=\"dataframe\">\n",
       "  <thead>\n",
       "    <tr style=\"text-align: right;\">\n",
       "      <th></th>\n",
       "      <th>DEPT_ID_DEP</th>\n",
       "      <th>DEP_NAME</th>\n",
       "      <th>MANAGER_ID</th>\n",
       "      <th>LOC_ID</th>\n",
       "    </tr>\n",
       "  </thead>\n",
       "  <tbody>\n",
       "    <tr>\n",
       "      <th>0</th>\n",
       "      <td>5</td>\n",
       "      <td>Software Group</td>\n",
       "      <td>30002</td>\n",
       "      <td>L0002</td>\n",
       "    </tr>\n",
       "    <tr>\n",
       "      <th>1</th>\n",
       "      <td>7</td>\n",
       "      <td>Design Team</td>\n",
       "      <td>30003</td>\n",
       "      <td>L0003</td>\n",
       "    </tr>\n",
       "  </tbody>\n",
       "</table>\n",
       "</div>"
      ],
      "text/plain": [
       "   DEPT_ID_DEP        DEP_NAME  MANAGER_ID LOC_ID\n",
       "0            5  Software Group       30002  L0002\n",
       "1            7     Design Team       30003  L0003"
      ]
     },
     "execution_count": 18,
     "metadata": {},
     "output_type": "execute_result"
    }
   ],
   "source": [
    "departments_data = pd.DataFrame(departments_data)\n",
    "\n",
    "departments_data.rename(columns = {'2':'DEPT_ID_DEP','Architect Group':'DEP_NAME','30001':'MANAGER_ID','L0001':'LOC_ID'}, inplace=True)\n",
    "departments_data"
   ]
  },
  {
   "cell_type": "code",
   "execution_count": null,
   "id": "4a3b6e93",
   "metadata": {},
   "outputs": [],
   "source": []
  },
  {
   "cell_type": "code",
   "execution_count": 19,
   "id": "13abbe7d",
   "metadata": {},
   "outputs": [
    {
     "data": {
      "text/html": [
       "<div>\n",
       "<style scoped>\n",
       "    .dataframe tbody tr th:only-of-type {\n",
       "        vertical-align: middle;\n",
       "    }\n",
       "\n",
       "    .dataframe tbody tr th {\n",
       "        vertical-align: top;\n",
       "    }\n",
       "\n",
       "    .dataframe thead th {\n",
       "        text-align: right;\n",
       "    }\n",
       "</style>\n",
       "<table border=\"1\" class=\"dataframe\">\n",
       "  <thead>\n",
       "    <tr style=\"text-align: right;\">\n",
       "      <th></th>\n",
       "      <th>DEPT_ID_DEP</th>\n",
       "      <th>DEP_NAME</th>\n",
       "      <th>MANAGER_ID</th>\n",
       "      <th>LOC_ID</th>\n",
       "    </tr>\n",
       "  </thead>\n",
       "  <tbody>\n",
       "    <tr>\n",
       "      <th>0</th>\n",
       "      <td>5</td>\n",
       "      <td>Software Group</td>\n",
       "      <td>30002</td>\n",
       "      <td>L0002</td>\n",
       "    </tr>\n",
       "    <tr>\n",
       "      <th>1</th>\n",
       "      <td>7</td>\n",
       "      <td>Design Team</td>\n",
       "      <td>30003</td>\n",
       "      <td>L0003</td>\n",
       "    </tr>\n",
       "    <tr>\n",
       "      <th>2</th>\n",
       "      <td>2</td>\n",
       "      <td>Architect Group</td>\n",
       "      <td>30001</td>\n",
       "      <td>L0001</td>\n",
       "    </tr>\n",
       "  </tbody>\n",
       "</table>\n",
       "</div>"
      ],
      "text/plain": [
       "   DEPT_ID_DEP         DEP_NAME  MANAGER_ID LOC_ID\n",
       "0            5   Software Group       30002  L0002\n",
       "1            7      Design Team       30003  L0003\n",
       "2            2  Architect Group       30001  L0001"
      ]
     },
     "execution_count": 19,
     "metadata": {},
     "output_type": "execute_result"
    }
   ],
   "source": [
    "departments_data.loc[len(departments_data.index)] = [2,'Architect Group',30001,'L0001']\n",
    "departments_data\n",
    "\n",
    "#only use this code once as it continuously adds a row to the dataframe"
   ]
  },
  {
   "cell_type": "code",
   "execution_count": null,
   "id": "a21582a6",
   "metadata": {},
   "outputs": [],
   "source": []
  },
  {
   "cell_type": "markdown",
   "id": "155c45d1",
   "metadata": {},
   "source": [
    "\n"
   ]
  },
  {
   "cell_type": "code",
   "execution_count": 21,
   "id": "80f08bba",
   "metadata": {},
   "outputs": [
    {
     "name": "stdout",
     "output_type": "stream",
     "text": [
      " * sqlite:///hr.db\n"
     ]
    },
    {
     "data": {
      "text/plain": [
       "'Persisted departments_data'"
      ]
     },
     "execution_count": 21,
     "metadata": {},
     "output_type": "execute_result"
    }
   ],
   "source": [
    "%sql --persist departments_data"
   ]
  },
  {
   "cell_type": "code",
   "execution_count": 36,
   "id": "89980b06",
   "metadata": {},
   "outputs": [
    {
     "name": "stdout",
     "output_type": "stream",
     "text": [
      " * sqlite:///hr.db\n",
      "Done.\n"
     ]
    },
    {
     "data": {
      "text/html": [
       "<table>\n",
       "    <tr>\n",
       "        <th>name</th>\n",
       "    </tr>\n",
       "    <tr>\n",
       "        <td>employees_data</td>\n",
       "    </tr>\n",
       "    <tr>\n",
       "        <td>jobshistory_data</td>\n",
       "    </tr>\n",
       "    <tr>\n",
       "        <td>locations_data</td>\n",
       "    </tr>\n",
       "    <tr>\n",
       "        <td>jobs_data</td>\n",
       "    </tr>\n",
       "    <tr>\n",
       "        <td>departments_data</td>\n",
       "    </tr>\n",
       "</table>"
      ],
      "text/plain": [
       "[('employees_data',),\n",
       " ('jobshistory_data',),\n",
       " ('locations_data',),\n",
       " ('jobs_data',),\n",
       " ('departments_data',)]"
      ]
     },
     "execution_count": 36,
     "metadata": {},
     "output_type": "execute_result"
    }
   ],
   "source": [
    "%sql select name from sqlite_master where type='table';"
   ]
  },
  {
   "cell_type": "code",
   "execution_count": 37,
   "id": "38272c3b",
   "metadata": {},
   "outputs": [
    {
     "name": "stdout",
     "output_type": "stream",
     "text": [
      " * sqlite:///hr.db\n",
      "Done.\n"
     ]
    },
    {
     "data": {
      "text/html": [
       "<table>\n",
       "    <tr>\n",
       "        <th>count(name)</th>\n",
       "    </tr>\n",
       "    <tr>\n",
       "        <td>5</td>\n",
       "    </tr>\n",
       "</table>"
      ],
      "text/plain": [
       "[(5,)]"
      ]
     },
     "execution_count": 37,
     "metadata": {},
     "output_type": "execute_result"
    }
   ],
   "source": [
    "%sql select count(name) from PRAGMA_TABLE_INFO('jobshistory_data')"
   ]
  },
  {
   "cell_type": "code",
   "execution_count": 38,
   "id": "dd25a7b1",
   "metadata": {},
   "outputs": [
    {
     "name": "stdout",
     "output_type": "stream",
     "text": [
      " * sqlite:///hr.db\n",
      "Done.\n"
     ]
    },
    {
     "data": {
      "text/html": [
       "<table>\n",
       "    <tr>\n",
       "        <th>index</th>\n",
       "        <th>DEPT_ID_DEP</th>\n",
       "        <th>DEP_NAME</th>\n",
       "        <th>MANAGER_ID</th>\n",
       "        <th>LOC_ID</th>\n",
       "    </tr>\n",
       "    <tr>\n",
       "        <td>0</td>\n",
       "        <td>5</td>\n",
       "        <td>Software Group</td>\n",
       "        <td>30002</td>\n",
       "        <td>L0002</td>\n",
       "    </tr>\n",
       "    <tr>\n",
       "        <td>1</td>\n",
       "        <td>7</td>\n",
       "        <td>Design Team</td>\n",
       "        <td>30003</td>\n",
       "        <td>L0003</td>\n",
       "    </tr>\n",
       "    <tr>\n",
       "        <td>2</td>\n",
       "        <td>2</td>\n",
       "        <td>Architect Group</td>\n",
       "        <td>30001</td>\n",
       "        <td>L0001</td>\n",
       "    </tr>\n",
       "</table>"
      ],
      "text/plain": [
       "[(0, 5, 'Software Group', 30002, 'L0002'),\n",
       " (1, 7, 'Design Team', 30003, 'L0003'),\n",
       " (2, 2, 'Architect Group', 30001, 'L0001')]"
      ]
     },
     "execution_count": 38,
     "metadata": {},
     "output_type": "execute_result"
    }
   ],
   "source": [
    "%sql select * from departments_data;"
   ]
  },
  {
   "cell_type": "code",
   "execution_count": null,
   "id": "14d85ece",
   "metadata": {},
   "outputs": [],
   "source": []
  },
  {
   "cell_type": "code",
   "execution_count": 39,
   "id": "25db18c6",
   "metadata": {},
   "outputs": [
    {
     "name": "stdout",
     "output_type": "stream",
     "text": [
      " * sqlite:///hr.db\n",
      "Done.\n"
     ]
    },
    {
     "data": {
      "text/html": [
       "<table>\n",
       "    <tr>\n",
       "        <th>F_NAME</th>\n",
       "        <th>L_NAME</th>\n",
       "        <th>JOB_TITLE</th>\n",
       "    </tr>\n",
       "    <tr>\n",
       "        <td>Alice</td>\n",
       "        <td>James</td>\n",
       "        <td>Sr.Software Developer</td>\n",
       "    </tr>\n",
       "    <tr>\n",
       "        <td>Steve</td>\n",
       "        <td>Wells</td>\n",
       "        <td>Sr.Software Developer</td>\n",
       "    </tr>\n",
       "    <tr>\n",
       "        <td>Santosh</td>\n",
       "        <td>Kumar</td>\n",
       "        <td>Sr.Software Developer</td>\n",
       "    </tr>\n",
       "    <tr>\n",
       "        <td>Ann</td>\n",
       "        <td>Jacob</td>\n",
       "        <td>Sr.Software Developer</td>\n",
       "    </tr>\n",
       "    <tr>\n",
       "        <td>Alice</td>\n",
       "        <td>James</td>\n",
       "        <td>Jr.Software Developer</td>\n",
       "    </tr>\n",
       "    <tr>\n",
       "        <td>Steve</td>\n",
       "        <td>Wells</td>\n",
       "        <td>Jr.Software Developer</td>\n",
       "    </tr>\n",
       "    <tr>\n",
       "        <td>Santosh</td>\n",
       "        <td>Kumar</td>\n",
       "        <td>Jr.Software Developer</td>\n",
       "    </tr>\n",
       "    <tr>\n",
       "        <td>Ann</td>\n",
       "        <td>Jacob</td>\n",
       "        <td>Jr.Software Developer</td>\n",
       "    </tr>\n",
       "    <tr>\n",
       "        <td>Alice</td>\n",
       "        <td>James</td>\n",
       "        <td>Jr.Software Developer</td>\n",
       "    </tr>\n",
       "    <tr>\n",
       "        <td>Steve</td>\n",
       "        <td>Wells</td>\n",
       "        <td>Jr.Software Developer</td>\n",
       "    </tr>\n",
       "    <tr>\n",
       "        <td>Santosh</td>\n",
       "        <td>Kumar</td>\n",
       "        <td>Jr.Software Developer</td>\n",
       "    </tr>\n",
       "    <tr>\n",
       "        <td>Ann</td>\n",
       "        <td>Jacob</td>\n",
       "        <td>Jr.Software Developer</td>\n",
       "    </tr>\n",
       "    <tr>\n",
       "        <td>Alice</td>\n",
       "        <td>James</td>\n",
       "        <td>Jr. Architect</td>\n",
       "    </tr>\n",
       "    <tr>\n",
       "        <td>Steve</td>\n",
       "        <td>Wells</td>\n",
       "        <td>Jr. Architect</td>\n",
       "    </tr>\n",
       "    <tr>\n",
       "        <td>Santosh</td>\n",
       "        <td>Kumar</td>\n",
       "        <td>Jr. Architect</td>\n",
       "    </tr>\n",
       "    <tr>\n",
       "        <td>Ann</td>\n",
       "        <td>Jacob</td>\n",
       "        <td>Jr. Architect</td>\n",
       "    </tr>\n",
       "    <tr>\n",
       "        <td>Alice</td>\n",
       "        <td>James</td>\n",
       "        <td>Lead Architect</td>\n",
       "    </tr>\n",
       "    <tr>\n",
       "        <td>Steve</td>\n",
       "        <td>Wells</td>\n",
       "        <td>Lead Architect</td>\n",
       "    </tr>\n",
       "    <tr>\n",
       "        <td>Santosh</td>\n",
       "        <td>Kumar</td>\n",
       "        <td>Lead Architect</td>\n",
       "    </tr>\n",
       "    <tr>\n",
       "        <td>Ann</td>\n",
       "        <td>Jacob</td>\n",
       "        <td>Lead Architect</td>\n",
       "    </tr>\n",
       "    <tr>\n",
       "        <td>Alice</td>\n",
       "        <td>James</td>\n",
       "        <td>Jr. Designer</td>\n",
       "    </tr>\n",
       "    <tr>\n",
       "        <td>Steve</td>\n",
       "        <td>Wells</td>\n",
       "        <td>Jr. Designer</td>\n",
       "    </tr>\n",
       "    <tr>\n",
       "        <td>Santosh</td>\n",
       "        <td>Kumar</td>\n",
       "        <td>Jr. Designer</td>\n",
       "    </tr>\n",
       "    <tr>\n",
       "        <td>Ann</td>\n",
       "        <td>Jacob</td>\n",
       "        <td>Jr. Designer</td>\n",
       "    </tr>\n",
       "    <tr>\n",
       "        <td>Alice</td>\n",
       "        <td>James</td>\n",
       "        <td>Jr. Designer</td>\n",
       "    </tr>\n",
       "    <tr>\n",
       "        <td>Steve</td>\n",
       "        <td>Wells</td>\n",
       "        <td>Jr. Designer</td>\n",
       "    </tr>\n",
       "    <tr>\n",
       "        <td>Santosh</td>\n",
       "        <td>Kumar</td>\n",
       "        <td>Jr. Designer</td>\n",
       "    </tr>\n",
       "    <tr>\n",
       "        <td>Ann</td>\n",
       "        <td>Jacob</td>\n",
       "        <td>Jr. Designer</td>\n",
       "    </tr>\n",
       "    <tr>\n",
       "        <td>Alice</td>\n",
       "        <td>James</td>\n",
       "        <td>Sr. Designer</td>\n",
       "    </tr>\n",
       "    <tr>\n",
       "        <td>Steve</td>\n",
       "        <td>Wells</td>\n",
       "        <td>Sr. Designer</td>\n",
       "    </tr>\n",
       "    <tr>\n",
       "        <td>Santosh</td>\n",
       "        <td>Kumar</td>\n",
       "        <td>Sr. Designer</td>\n",
       "    </tr>\n",
       "    <tr>\n",
       "        <td>Ann</td>\n",
       "        <td>Jacob</td>\n",
       "        <td>Sr. Designer</td>\n",
       "    </tr>\n",
       "    <tr>\n",
       "        <td>Alice</td>\n",
       "        <td>James</td>\n",
       "        <td>Sr. Designer</td>\n",
       "    </tr>\n",
       "    <tr>\n",
       "        <td>Steve</td>\n",
       "        <td>Wells</td>\n",
       "        <td>Sr. Designer</td>\n",
       "    </tr>\n",
       "    <tr>\n",
       "        <td>Santosh</td>\n",
       "        <td>Kumar</td>\n",
       "        <td>Sr. Designer</td>\n",
       "    </tr>\n",
       "    <tr>\n",
       "        <td>Ann</td>\n",
       "        <td>Jacob</td>\n",
       "        <td>Sr. Designer</td>\n",
       "    </tr>\n",
       "    <tr>\n",
       "        <td>Alice</td>\n",
       "        <td>James</td>\n",
       "        <td>Sr. Architect</td>\n",
       "    </tr>\n",
       "    <tr>\n",
       "        <td>Steve</td>\n",
       "        <td>Wells</td>\n",
       "        <td>Sr. Architect</td>\n",
       "    </tr>\n",
       "    <tr>\n",
       "        <td>Santosh</td>\n",
       "        <td>Kumar</td>\n",
       "        <td>Sr. Architect</td>\n",
       "    </tr>\n",
       "    <tr>\n",
       "        <td>Ann</td>\n",
       "        <td>Jacob</td>\n",
       "        <td>Sr. Architect</td>\n",
       "    </tr>\n",
       "</table>"
      ],
      "text/plain": [
       "[('Alice', 'James', 'Sr.Software Developer'),\n",
       " ('Steve', 'Wells', 'Sr.Software Developer'),\n",
       " ('Santosh', 'Kumar', 'Sr.Software Developer'),\n",
       " ('Ann', 'Jacob', 'Sr.Software Developer'),\n",
       " ('Alice', 'James', 'Jr.Software Developer'),\n",
       " ('Steve', 'Wells', 'Jr.Software Developer'),\n",
       " ('Santosh', 'Kumar', 'Jr.Software Developer'),\n",
       " ('Ann', 'Jacob', 'Jr.Software Developer'),\n",
       " ('Alice', 'James', 'Jr.Software Developer'),\n",
       " ('Steve', 'Wells', 'Jr.Software Developer'),\n",
       " ('Santosh', 'Kumar', 'Jr.Software Developer'),\n",
       " ('Ann', 'Jacob', 'Jr.Software Developer'),\n",
       " ('Alice', 'James', 'Jr. Architect'),\n",
       " ('Steve', 'Wells', 'Jr. Architect'),\n",
       " ('Santosh', 'Kumar', 'Jr. Architect'),\n",
       " ('Ann', 'Jacob', 'Jr. Architect'),\n",
       " ('Alice', 'James', 'Lead Architect'),\n",
       " ('Steve', 'Wells', 'Lead Architect'),\n",
       " ('Santosh', 'Kumar', 'Lead Architect'),\n",
       " ('Ann', 'Jacob', 'Lead Architect'),\n",
       " ('Alice', 'James', 'Jr. Designer'),\n",
       " ('Steve', 'Wells', 'Jr. Designer'),\n",
       " ('Santosh', 'Kumar', 'Jr. Designer'),\n",
       " ('Ann', 'Jacob', 'Jr. Designer'),\n",
       " ('Alice', 'James', 'Jr. Designer'),\n",
       " ('Steve', 'Wells', 'Jr. Designer'),\n",
       " ('Santosh', 'Kumar', 'Jr. Designer'),\n",
       " ('Ann', 'Jacob', 'Jr. Designer'),\n",
       " ('Alice', 'James', 'Sr. Designer'),\n",
       " ('Steve', 'Wells', 'Sr. Designer'),\n",
       " ('Santosh', 'Kumar', 'Sr. Designer'),\n",
       " ('Ann', 'Jacob', 'Sr. Designer'),\n",
       " ('Alice', 'James', 'Sr. Designer'),\n",
       " ('Steve', 'Wells', 'Sr. Designer'),\n",
       " ('Santosh', 'Kumar', 'Sr. Designer'),\n",
       " ('Ann', 'Jacob', 'Sr. Designer'),\n",
       " ('Alice', 'James', 'Sr. Architect'),\n",
       " ('Steve', 'Wells', 'Sr. Architect'),\n",
       " ('Santosh', 'Kumar', 'Sr. Architect'),\n",
       " ('Ann', 'Jacob', 'Sr. Architect')]"
      ]
     },
     "execution_count": 39,
     "metadata": {},
     "output_type": "execute_result"
    }
   ],
   "source": [
    "%sql select E.f_name,E.l_name,J.job_title from employees_data as E, jobs_data as J\\\n",
    "INNER JOIN jobshistory_data as JH on E.EMP_ID = JH.EMP_ID\\\n",
    "where E.dep_id = '5';\n"
   ]
  },
  {
   "cell_type": "code",
   "execution_count": null,
   "id": "92619bb5",
   "metadata": {},
   "outputs": [],
   "source": []
  },
  {
   "cell_type": "code",
   "execution_count": null,
   "id": "da591ea7",
   "metadata": {},
   "outputs": [],
   "source": []
  },
  {
   "cell_type": "code",
   "execution_count": 40,
   "id": "86918eb9",
   "metadata": {},
   "outputs": [
    {
     "name": "stdout",
     "output_type": "stream",
     "text": [
      " * sqlite:///hr.db\n",
      "Done.\n"
     ]
    },
    {
     "data": {
      "text/html": [
       "<table>\n",
       "    <tr>\n",
       "        <th>F_NAME</th>\n",
       "        <th>L_NAME</th>\n",
       "        <th>JOB_TITLE</th>\n",
       "        <th>START_DATE</th>\n",
       "    </tr>\n",
       "    <tr>\n",
       "        <td>Alice</td>\n",
       "        <td>James</td>\n",
       "        <td>Sr.Software Developer</td>\n",
       "        <td>08/01/2001</td>\n",
       "    </tr>\n",
       "    <tr>\n",
       "        <td>Steve</td>\n",
       "        <td>Wells</td>\n",
       "        <td>Jr.Software Developer</td>\n",
       "        <td>08/16/2001</td>\n",
       "    </tr>\n",
       "    <tr>\n",
       "        <td>Santosh</td>\n",
       "        <td>Kumar</td>\n",
       "        <td>Jr.Software Developer</td>\n",
       "        <td>08/16/2000</td>\n",
       "    </tr>\n",
       "    <tr>\n",
       "        <td>Ann</td>\n",
       "        <td>Jacob</td>\n",
       "        <td>Sr. Designer</td>\n",
       "        <td>08/16/2016</td>\n",
       "    </tr>\n",
       "</table>"
      ],
      "text/plain": [
       "[('Alice', 'James', 'Sr.Software Developer', '08/01/2001'),\n",
       " ('Steve', 'Wells', 'Jr.Software Developer', '08/16/2001'),\n",
       " ('Santosh', 'Kumar', 'Jr.Software Developer', '08/16/2000'),\n",
       " ('Ann', 'Jacob', 'Sr. Designer', '08/16/2016')]"
      ]
     },
     "execution_count": 40,
     "metadata": {},
     "output_type": "execute_result"
    }
   ],
   "source": [
    "%sql select E.f_name,E.l_name,J.job_title, JH.start_date from employees_data as E\\\n",
    "INNER JOIN jobshistory_data as JH on E.EMP_ID = JH.EMP_ID\\\n",
    "INNER JOIN jobs_data as J on E.JOB_ID = J.JOB_IDENT\\\n",
    "where E.dep_id = '5';"
   ]
  },
  {
   "cell_type": "code",
   "execution_count": null,
   "id": "2affbdc1",
   "metadata": {},
   "outputs": [],
   "source": []
  },
  {
   "cell_type": "code",
   "execution_count": 42,
   "id": "bd818057",
   "metadata": {},
   "outputs": [
    {
     "name": "stdout",
     "output_type": "stream",
     "text": [
      " * sqlite:///hr.db\n",
      "Done.\n"
     ]
    },
    {
     "data": {
      "text/html": [
       "<table>\n",
       "    <tr>\n",
       "        <th>DEP_ID</th>\n",
       "        <th>F_NAME</th>\n",
       "        <th>L_NAME</th>\n",
       "        <th>DEPT_ID_DEP</th>\n",
       "        <th>DEP_NAME</th>\n",
       "    </tr>\n",
       "    <tr>\n",
       "        <td>2</td>\n",
       "        <td>John</td>\n",
       "        <td>Thomas</td>\n",
       "        <td>2</td>\n",
       "        <td>Architect Group</td>\n",
       "    </tr>\n",
       "    <tr>\n",
       "        <td>5</td>\n",
       "        <td>Alice</td>\n",
       "        <td>James</td>\n",
       "        <td>5</td>\n",
       "        <td>Software Group</td>\n",
       "    </tr>\n",
       "    <tr>\n",
       "        <td>5</td>\n",
       "        <td>Steve</td>\n",
       "        <td>Wells</td>\n",
       "        <td>5</td>\n",
       "        <td>Software Group</td>\n",
       "    </tr>\n",
       "    <tr>\n",
       "        <td>5</td>\n",
       "        <td>Santosh</td>\n",
       "        <td>Kumar</td>\n",
       "        <td>5</td>\n",
       "        <td>Software Group</td>\n",
       "    </tr>\n",
       "    <tr>\n",
       "        <td>2</td>\n",
       "        <td>Ahmed</td>\n",
       "        <td>Hussain</td>\n",
       "        <td>2</td>\n",
       "        <td>Architect Group</td>\n",
       "    </tr>\n",
       "    <tr>\n",
       "        <td>2</td>\n",
       "        <td>Nancy</td>\n",
       "        <td>Allen</td>\n",
       "        <td>2</td>\n",
       "        <td>Architect Group</td>\n",
       "    </tr>\n",
       "    <tr>\n",
       "        <td>7</td>\n",
       "        <td>Mary</td>\n",
       "        <td>Thomas</td>\n",
       "        <td>7</td>\n",
       "        <td>Design Team</td>\n",
       "    </tr>\n",
       "    <tr>\n",
       "        <td>7</td>\n",
       "        <td>Bharath</td>\n",
       "        <td>Gupta</td>\n",
       "        <td>7</td>\n",
       "        <td>Design Team</td>\n",
       "    </tr>\n",
       "    <tr>\n",
       "        <td>7</td>\n",
       "        <td>Andrea</td>\n",
       "        <td>Jones</td>\n",
       "        <td>7</td>\n",
       "        <td>Design Team</td>\n",
       "    </tr>\n",
       "    <tr>\n",
       "        <td>5</td>\n",
       "        <td>Ann</td>\n",
       "        <td>Jacob</td>\n",
       "        <td>5</td>\n",
       "        <td>Software Group</td>\n",
       "    </tr>\n",
       "</table>"
      ],
      "text/plain": [
       "[(2, 'John', 'Thomas', 2, 'Architect Group'),\n",
       " (5, 'Alice', 'James', 5, 'Software Group'),\n",
       " (5, 'Steve', 'Wells', 5, 'Software Group'),\n",
       " (5, 'Santosh', 'Kumar', 5, 'Software Group'),\n",
       " (2, 'Ahmed', 'Hussain', 2, 'Architect Group'),\n",
       " (2, 'Nancy', 'Allen', 2, 'Architect Group'),\n",
       " (7, 'Mary', 'Thomas', 7, 'Design Team'),\n",
       " (7, 'Bharath', 'Gupta', 7, 'Design Team'),\n",
       " (7, 'Andrea', 'Jones', 7, 'Design Team'),\n",
       " (5, 'Ann', 'Jacob', 5, 'Software Group')]"
      ]
     },
     "execution_count": 42,
     "metadata": {},
     "output_type": "execute_result"
    }
   ],
   "source": [
    "%sql select E.dep_id, E.f_name, E.l_name, D.dept_id_dep, D.dep_name from employees_data as E\\\n",
    "left outer join departments_data as D on E.dep_id = D.dept_id_dep;"
   ]
  },
  {
   "cell_type": "code",
   "execution_count": null,
   "id": "ba279f3c",
   "metadata": {},
   "outputs": [],
   "source": []
  },
  {
   "cell_type": "code",
   "execution_count": 43,
   "id": "296244e4",
   "metadata": {},
   "outputs": [
    {
     "name": "stdout",
     "output_type": "stream",
     "text": [
      " * sqlite:///hr.db\n",
      "Done.\n"
     ]
    },
    {
     "data": {
      "text/html": [
       "<table>\n",
       "    <tr>\n",
       "        <th>DEP_ID</th>\n",
       "        <th>F_NAME</th>\n",
       "        <th>L_NAME</th>\n",
       "        <th>DEPT_ID_DEP</th>\n",
       "        <th>DEP_NAME</th>\n",
       "    </tr>\n",
       "    <tr>\n",
       "        <td>2</td>\n",
       "        <td>John</td>\n",
       "        <td>Thomas</td>\n",
       "        <td>2</td>\n",
       "        <td>Architect Group</td>\n",
       "    </tr>\n",
       "    <tr>\n",
       "        <td>5</td>\n",
       "        <td>Alice</td>\n",
       "        <td>James</td>\n",
       "        <td>5</td>\n",
       "        <td>Software Group</td>\n",
       "    </tr>\n",
       "    <tr>\n",
       "        <td>2</td>\n",
       "        <td>Nancy</td>\n",
       "        <td>Allen</td>\n",
       "        <td>2</td>\n",
       "        <td>Architect Group</td>\n",
       "    </tr>\n",
       "    <tr>\n",
       "        <td>7</td>\n",
       "        <td>Mary</td>\n",
       "        <td>Thomas</td>\n",
       "        <td>7</td>\n",
       "        <td>Design Team</td>\n",
       "    </tr>\n",
       "</table>"
      ],
      "text/plain": [
       "[(2, 'John', 'Thomas', 2, 'Architect Group'),\n",
       " (5, 'Alice', 'James', 5, 'Software Group'),\n",
       " (2, 'Nancy', 'Allen', 2, 'Architect Group'),\n",
       " (7, 'Mary', 'Thomas', 7, 'Design Team')]"
      ]
     },
     "execution_count": 43,
     "metadata": {},
     "output_type": "execute_result"
    }
   ],
   "source": [
    "%sql select E.dep_id, E.f_name, E.l_name, D.dept_id_dep, D.dep_name from employees_data as E\\\n",
    "left outer join departments_data as D on E.dep_id = D.dept_id_dep\\\n",
    "where E.b_date < 1980;"
   ]
  },
  {
   "cell_type": "code",
   "execution_count": 44,
   "id": "d789d859",
   "metadata": {},
   "outputs": [
    {
     "name": "stdout",
     "output_type": "stream",
     "text": [
      " * sqlite:///hr.db\n",
      "Done.\n"
     ]
    },
    {
     "data": {
      "text/html": [
       "<table>\n",
       "    <tr>\n",
       "        <th>DEP_ID</th>\n",
       "        <th>F_NAME</th>\n",
       "        <th>L_NAME</th>\n",
       "        <th>DEPT_ID_DEP</th>\n",
       "        <th>DEP_NAME</th>\n",
       "    </tr>\n",
       "    <tr>\n",
       "        <td>2</td>\n",
       "        <td>John</td>\n",
       "        <td>Thomas</td>\n",
       "        <td>2</td>\n",
       "        <td>Architect Group</td>\n",
       "    </tr>\n",
       "    <tr>\n",
       "        <td>5</td>\n",
       "        <td>Alice</td>\n",
       "        <td>James</td>\n",
       "        <td>5</td>\n",
       "        <td>Software Group</td>\n",
       "    </tr>\n",
       "    <tr>\n",
       "        <td>5</td>\n",
       "        <td>Steve</td>\n",
       "        <td>Wells</td>\n",
       "        <td>None</td>\n",
       "        <td>None</td>\n",
       "    </tr>\n",
       "    <tr>\n",
       "        <td>5</td>\n",
       "        <td>Santosh</td>\n",
       "        <td>Kumar</td>\n",
       "        <td>None</td>\n",
       "        <td>None</td>\n",
       "    </tr>\n",
       "    <tr>\n",
       "        <td>2</td>\n",
       "        <td>Ahmed</td>\n",
       "        <td>Hussain</td>\n",
       "        <td>None</td>\n",
       "        <td>None</td>\n",
       "    </tr>\n",
       "    <tr>\n",
       "        <td>2</td>\n",
       "        <td>Nancy</td>\n",
       "        <td>Allen</td>\n",
       "        <td>2</td>\n",
       "        <td>Architect Group</td>\n",
       "    </tr>\n",
       "    <tr>\n",
       "        <td>7</td>\n",
       "        <td>Mary</td>\n",
       "        <td>Thomas</td>\n",
       "        <td>7</td>\n",
       "        <td>Design Team</td>\n",
       "    </tr>\n",
       "    <tr>\n",
       "        <td>7</td>\n",
       "        <td>Bharath</td>\n",
       "        <td>Gupta</td>\n",
       "        <td>None</td>\n",
       "        <td>None</td>\n",
       "    </tr>\n",
       "    <tr>\n",
       "        <td>7</td>\n",
       "        <td>Andrea</td>\n",
       "        <td>Jones</td>\n",
       "        <td>None</td>\n",
       "        <td>None</td>\n",
       "    </tr>\n",
       "    <tr>\n",
       "        <td>5</td>\n",
       "        <td>Ann</td>\n",
       "        <td>Jacob</td>\n",
       "        <td>None</td>\n",
       "        <td>None</td>\n",
       "    </tr>\n",
       "</table>"
      ],
      "text/plain": [
       "[(2, 'John', 'Thomas', 2, 'Architect Group'),\n",
       " (5, 'Alice', 'James', 5, 'Software Group'),\n",
       " (5, 'Steve', 'Wells', None, None),\n",
       " (5, 'Santosh', 'Kumar', None, None),\n",
       " (2, 'Ahmed', 'Hussain', None, None),\n",
       " (2, 'Nancy', 'Allen', 2, 'Architect Group'),\n",
       " (7, 'Mary', 'Thomas', 7, 'Design Team'),\n",
       " (7, 'Bharath', 'Gupta', None, None),\n",
       " (7, 'Andrea', 'Jones', None, None),\n",
       " (5, 'Ann', 'Jacob', None, None)]"
      ]
     },
     "execution_count": 44,
     "metadata": {},
     "output_type": "execute_result"
    }
   ],
   "source": [
    "%sql select E.dep_id, E.f_name, E.l_name, D.dept_id_dep, D.dep_name from employees_data as E\\\n",
    "left outer join departments_data as D on E.dep_id = D.dept_id_dep\\\n",
    "and E.b_date < 1980;"
   ]
  },
  {
   "cell_type": "code",
   "execution_count": 45,
   "id": "1315e171",
   "metadata": {},
   "outputs": [
    {
     "name": "stdout",
     "output_type": "stream",
     "text": [
      " * sqlite:///hr.db\n",
      "Done.\n"
     ]
    },
    {
     "data": {
      "text/html": [
       "<table>\n",
       "    <tr>\n",
       "        <th>DEP_ID</th>\n",
       "        <th>F_NAME</th>\n",
       "        <th>L_NAME</th>\n",
       "        <th>DEPT_ID_DEP</th>\n",
       "        <th>DEP_NAME</th>\n",
       "    </tr>\n",
       "    <tr>\n",
       "        <td>2</td>\n",
       "        <td>John</td>\n",
       "        <td>Thomas</td>\n",
       "        <td>2</td>\n",
       "        <td>Architect Group</td>\n",
       "    </tr>\n",
       "    <tr>\n",
       "        <td>5</td>\n",
       "        <td>Steve</td>\n",
       "        <td>Wells</td>\n",
       "        <td>5</td>\n",
       "        <td>Software Group</td>\n",
       "    </tr>\n",
       "    <tr>\n",
       "        <td>5</td>\n",
       "        <td>Santosh</td>\n",
       "        <td>Kumar</td>\n",
       "        <td>5</td>\n",
       "        <td>Software Group</td>\n",
       "    </tr>\n",
       "    <tr>\n",
       "        <td>2</td>\n",
       "        <td>Ahmed</td>\n",
       "        <td>Hussain</td>\n",
       "        <td>2</td>\n",
       "        <td>Architect Group</td>\n",
       "    </tr>\n",
       "    <tr>\n",
       "        <td>7</td>\n",
       "        <td>Bharath</td>\n",
       "        <td>Gupta</td>\n",
       "        <td>7</td>\n",
       "        <td>Design Team</td>\n",
       "    </tr>\n",
       "</table>"
      ],
      "text/plain": [
       "[(2, 'John', 'Thomas', 2, 'Architect Group'),\n",
       " (5, 'Steve', 'Wells', 5, 'Software Group'),\n",
       " (5, 'Santosh', 'Kumar', 5, 'Software Group'),\n",
       " (2, 'Ahmed', 'Hussain', 2, 'Architect Group'),\n",
       " (7, 'Bharath', 'Gupta', 7, 'Design Team')]"
      ]
     },
     "execution_count": 45,
     "metadata": {},
     "output_type": "execute_result"
    }
   ],
   "source": [
    "%sql select E.dep_id, E.f_name, E.l_name, D.dept_id_dep, D.dep_name from employees_data as E\\\n",
    "left outer join departments_data as D on E.dep_id = D.dept_id_dep\\\n",
    "where E.sex = 'M';"
   ]
  },
  {
   "cell_type": "code",
   "execution_count": 46,
   "id": "49dd769e",
   "metadata": {},
   "outputs": [
    {
     "name": "stdout",
     "output_type": "stream",
     "text": [
      " * sqlite:///hr.db\n",
      "Done.\n"
     ]
    },
    {
     "data": {
      "text/html": [
       "<table>\n",
       "    <tr>\n",
       "        <th>DEP_ID</th>\n",
       "        <th>F_NAME</th>\n",
       "        <th>L_NAME</th>\n",
       "        <th>DEPT_ID_DEP</th>\n",
       "        <th>DEP_NAME</th>\n",
       "    </tr>\n",
       "    <tr>\n",
       "        <td>2</td>\n",
       "        <td>John</td>\n",
       "        <td>Thomas</td>\n",
       "        <td>2</td>\n",
       "        <td>Architect Group</td>\n",
       "    </tr>\n",
       "    <tr>\n",
       "        <td>5</td>\n",
       "        <td>Alice</td>\n",
       "        <td>James</td>\n",
       "        <td>None</td>\n",
       "        <td>None</td>\n",
       "    </tr>\n",
       "    <tr>\n",
       "        <td>5</td>\n",
       "        <td>Steve</td>\n",
       "        <td>Wells</td>\n",
       "        <td>5</td>\n",
       "        <td>Software Group</td>\n",
       "    </tr>\n",
       "    <tr>\n",
       "        <td>5</td>\n",
       "        <td>Santosh</td>\n",
       "        <td>Kumar</td>\n",
       "        <td>5</td>\n",
       "        <td>Software Group</td>\n",
       "    </tr>\n",
       "    <tr>\n",
       "        <td>2</td>\n",
       "        <td>Ahmed</td>\n",
       "        <td>Hussain</td>\n",
       "        <td>2</td>\n",
       "        <td>Architect Group</td>\n",
       "    </tr>\n",
       "    <tr>\n",
       "        <td>2</td>\n",
       "        <td>Nancy</td>\n",
       "        <td>Allen</td>\n",
       "        <td>None</td>\n",
       "        <td>None</td>\n",
       "    </tr>\n",
       "    <tr>\n",
       "        <td>7</td>\n",
       "        <td>Mary</td>\n",
       "        <td>Thomas</td>\n",
       "        <td>None</td>\n",
       "        <td>None</td>\n",
       "    </tr>\n",
       "    <tr>\n",
       "        <td>7</td>\n",
       "        <td>Bharath</td>\n",
       "        <td>Gupta</td>\n",
       "        <td>7</td>\n",
       "        <td>Design Team</td>\n",
       "    </tr>\n",
       "    <tr>\n",
       "        <td>7</td>\n",
       "        <td>Andrea</td>\n",
       "        <td>Jones</td>\n",
       "        <td>None</td>\n",
       "        <td>None</td>\n",
       "    </tr>\n",
       "    <tr>\n",
       "        <td>5</td>\n",
       "        <td>Ann</td>\n",
       "        <td>Jacob</td>\n",
       "        <td>None</td>\n",
       "        <td>None</td>\n",
       "    </tr>\n",
       "</table>"
      ],
      "text/plain": [
       "[(2, 'John', 'Thomas', 2, 'Architect Group'),\n",
       " (5, 'Alice', 'James', None, None),\n",
       " (5, 'Steve', 'Wells', 5, 'Software Group'),\n",
       " (5, 'Santosh', 'Kumar', 5, 'Software Group'),\n",
       " (2, 'Ahmed', 'Hussain', 2, 'Architect Group'),\n",
       " (2, 'Nancy', 'Allen', None, None),\n",
       " (7, 'Mary', 'Thomas', None, None),\n",
       " (7, 'Bharath', 'Gupta', 7, 'Design Team'),\n",
       " (7, 'Andrea', 'Jones', None, None),\n",
       " (5, 'Ann', 'Jacob', None, None)]"
      ]
     },
     "execution_count": 46,
     "metadata": {},
     "output_type": "execute_result"
    }
   ],
   "source": [
    "%sql select E.dep_id, E.f_name, E.l_name, D.dept_id_dep, D.dep_name from employees_data as E\\\n",
    "left outer join departments_data as D on E.dep_id = D.dept_id_dep\\\n",
    "and E.sex = 'M';"
   ]
  },
  {
   "cell_type": "code",
   "execution_count": null,
   "id": "cce3788a",
   "metadata": {},
   "outputs": [],
   "source": []
  }
 ],
 "metadata": {
  "kernelspec": {
   "display_name": "Python 3 (ipykernel)",
   "language": "python",
   "name": "python3"
  },
  "language_info": {
   "codemirror_mode": {
    "name": "ipython",
    "version": 3
   },
   "file_extension": ".py",
   "mimetype": "text/x-python",
   "name": "python",
   "nbconvert_exporter": "python",
   "pygments_lexer": "ipython3",
   "version": "3.8.15"
  }
 },
 "nbformat": 4,
 "nbformat_minor": 5
}
